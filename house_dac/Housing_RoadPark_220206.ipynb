{
 "cells": [
  {
   "cell_type": "code",
   "execution_count": 89,
   "metadata": {},
   "outputs": [],
   "source": [
    "import numpy as np\n",
    "import pandas as pd\n",
    "from pandas import read_csv, set_option\n",
    "\n",
    "from sklearn.model_selection import cross_val_score, train_test_split, RepeatedStratifiedKFold\n",
    "from sklearn.model_selection import GridSearchCV, RandomizedSearchCV\n",
    "from sklearn.preprocessing import MinMaxScaler, RobustScaler, StandardScaler\n",
    "from sklearn.pipeline import Pipeline\n",
    "\n",
    "from sklearn.metrics import accuracy_score, roc_auc_score\n",
    "from sklearn.utils import resample, shuffle"
   ]
  },
  {
   "cell_type": "markdown",
   "metadata": {},
   "source": [
    "#### 혹시 모르니 써볼까 싶은건 일단 다 불러봅니다"
   ]
  },
  {
   "cell_type": "code",
   "execution_count": 90,
   "metadata": {},
   "outputs": [],
   "source": [
    "import warnings\n",
    "warnings.filterwarnings('ignore')"
   ]
  },
  {
   "cell_type": "markdown",
   "metadata": {},
   "source": [
    "#### 경고는 자신감 하락의 원천이라 무시해줍니다"
   ]
  },
  {
   "cell_type": "code",
   "execution_count": 91,
   "metadata": {},
   "outputs": [],
   "source": [
    "X_train_df = read_csv('train.csv')\n",
    "X_test_df = read_csv('test.csv')"
   ]
  },
  {
   "cell_type": "code",
   "execution_count": 92,
   "metadata": {},
   "outputs": [
    {
     "data": {
      "text/html": [
       "<div>\n",
       "<style scoped>\n",
       "    .dataframe tbody tr th:only-of-type {\n",
       "        vertical-align: middle;\n",
       "    }\n",
       "\n",
       "    .dataframe tbody tr th {\n",
       "        vertical-align: top;\n",
       "    }\n",
       "\n",
       "    .dataframe thead th {\n",
       "        text-align: right;\n",
       "    }\n",
       "</style>\n",
       "<table border=\"1\" class=\"dataframe\">\n",
       "  <thead>\n",
       "    <tr style=\"text-align: right;\">\n",
       "      <th></th>\n",
       "      <th>id</th>\n",
       "      <th>Overall Qual</th>\n",
       "      <th>Gr Liv Area</th>\n",
       "      <th>Garage Cars</th>\n",
       "      <th>Garage Area</th>\n",
       "      <th>Total Bsmt SF</th>\n",
       "      <th>1st Flr SF</th>\n",
       "      <th>Full Bath</th>\n",
       "      <th>Year Built</th>\n",
       "      <th>Year Remod/Add</th>\n",
       "      <th>Garage Yr Blt</th>\n",
       "      <th>target</th>\n",
       "    </tr>\n",
       "  </thead>\n",
       "  <tbody>\n",
       "    <tr>\n",
       "      <th>count</th>\n",
       "      <td>1350.000000</td>\n",
       "      <td>1350.000000</td>\n",
       "      <td>1350.000000</td>\n",
       "      <td>1350.000000</td>\n",
       "      <td>1350.000000</td>\n",
       "      <td>1350.000000</td>\n",
       "      <td>1350.000000</td>\n",
       "      <td>1350.000000</td>\n",
       "      <td>1350.000000</td>\n",
       "      <td>1350.000000</td>\n",
       "      <td>1350.000000</td>\n",
       "      <td>1350.000000</td>\n",
       "    </tr>\n",
       "    <tr>\n",
       "      <th>mean</th>\n",
       "      <td>675.500000</td>\n",
       "      <td>6.208889</td>\n",
       "      <td>1513.542222</td>\n",
       "      <td>1.870370</td>\n",
       "      <td>502.014815</td>\n",
       "      <td>1082.644444</td>\n",
       "      <td>1167.474074</td>\n",
       "      <td>1.560741</td>\n",
       "      <td>1972.987407</td>\n",
       "      <td>1985.099259</td>\n",
       "      <td>1978.471852</td>\n",
       "      <td>186406.312593</td>\n",
       "    </tr>\n",
       "    <tr>\n",
       "      <th>std</th>\n",
       "      <td>389.855743</td>\n",
       "      <td>1.338015</td>\n",
       "      <td>487.523239</td>\n",
       "      <td>0.652483</td>\n",
       "      <td>191.389956</td>\n",
       "      <td>384.067713</td>\n",
       "      <td>375.061407</td>\n",
       "      <td>0.551646</td>\n",
       "      <td>29.307257</td>\n",
       "      <td>20.153244</td>\n",
       "      <td>25.377278</td>\n",
       "      <td>78435.424758</td>\n",
       "    </tr>\n",
       "    <tr>\n",
       "      <th>min</th>\n",
       "      <td>1.000000</td>\n",
       "      <td>2.000000</td>\n",
       "      <td>480.000000</td>\n",
       "      <td>1.000000</td>\n",
       "      <td>100.000000</td>\n",
       "      <td>105.000000</td>\n",
       "      <td>480.000000</td>\n",
       "      <td>0.000000</td>\n",
       "      <td>1880.000000</td>\n",
       "      <td>1950.000000</td>\n",
       "      <td>1900.000000</td>\n",
       "      <td>12789.000000</td>\n",
       "    </tr>\n",
       "    <tr>\n",
       "      <th>25%</th>\n",
       "      <td>338.250000</td>\n",
       "      <td>5.000000</td>\n",
       "      <td>1144.000000</td>\n",
       "      <td>1.000000</td>\n",
       "      <td>368.000000</td>\n",
       "      <td>816.000000</td>\n",
       "      <td>886.250000</td>\n",
       "      <td>1.000000</td>\n",
       "      <td>1955.000000</td>\n",
       "      <td>1968.000000</td>\n",
       "      <td>1961.000000</td>\n",
       "      <td>135000.000000</td>\n",
       "    </tr>\n",
       "    <tr>\n",
       "      <th>50%</th>\n",
       "      <td>675.500000</td>\n",
       "      <td>6.000000</td>\n",
       "      <td>1445.500000</td>\n",
       "      <td>2.000000</td>\n",
       "      <td>484.000000</td>\n",
       "      <td>1009.000000</td>\n",
       "      <td>1092.500000</td>\n",
       "      <td>2.000000</td>\n",
       "      <td>1976.000000</td>\n",
       "      <td>1993.000000</td>\n",
       "      <td>1978.500000</td>\n",
       "      <td>165375.000000</td>\n",
       "    </tr>\n",
       "    <tr>\n",
       "      <th>75%</th>\n",
       "      <td>1012.750000</td>\n",
       "      <td>7.000000</td>\n",
       "      <td>1774.500000</td>\n",
       "      <td>2.000000</td>\n",
       "      <td>588.000000</td>\n",
       "      <td>1309.500000</td>\n",
       "      <td>1396.500000</td>\n",
       "      <td>2.000000</td>\n",
       "      <td>2002.000000</td>\n",
       "      <td>2004.000000</td>\n",
       "      <td>2002.000000</td>\n",
       "      <td>217875.000000</td>\n",
       "    </tr>\n",
       "    <tr>\n",
       "      <th>max</th>\n",
       "      <td>1350.000000</td>\n",
       "      <td>10.000000</td>\n",
       "      <td>4476.000000</td>\n",
       "      <td>5.000000</td>\n",
       "      <td>1488.000000</td>\n",
       "      <td>2660.000000</td>\n",
       "      <td>2898.000000</td>\n",
       "      <td>4.000000</td>\n",
       "      <td>2010.000000</td>\n",
       "      <td>2010.000000</td>\n",
       "      <td>2207.000000</td>\n",
       "      <td>745000.000000</td>\n",
       "    </tr>\n",
       "  </tbody>\n",
       "</table>\n",
       "</div>"
      ],
      "text/plain": [
       "                id  Overall Qual  Gr Liv Area  Garage Cars  Garage Area  \\\n",
       "count  1350.000000   1350.000000  1350.000000  1350.000000  1350.000000   \n",
       "mean    675.500000      6.208889  1513.542222     1.870370   502.014815   \n",
       "std     389.855743      1.338015   487.523239     0.652483   191.389956   \n",
       "min       1.000000      2.000000   480.000000     1.000000   100.000000   \n",
       "25%     338.250000      5.000000  1144.000000     1.000000   368.000000   \n",
       "50%     675.500000      6.000000  1445.500000     2.000000   484.000000   \n",
       "75%    1012.750000      7.000000  1774.500000     2.000000   588.000000   \n",
       "max    1350.000000     10.000000  4476.000000     5.000000  1488.000000   \n",
       "\n",
       "       Total Bsmt SF   1st Flr SF    Full Bath   Year Built  Year Remod/Add  \\\n",
       "count    1350.000000  1350.000000  1350.000000  1350.000000     1350.000000   \n",
       "mean     1082.644444  1167.474074     1.560741  1972.987407     1985.099259   \n",
       "std       384.067713   375.061407     0.551646    29.307257       20.153244   \n",
       "min       105.000000   480.000000     0.000000  1880.000000     1950.000000   \n",
       "25%       816.000000   886.250000     1.000000  1955.000000     1968.000000   \n",
       "50%      1009.000000  1092.500000     2.000000  1976.000000     1993.000000   \n",
       "75%      1309.500000  1396.500000     2.000000  2002.000000     2004.000000   \n",
       "max      2660.000000  2898.000000     4.000000  2010.000000     2010.000000   \n",
       "\n",
       "       Garage Yr Blt         target  \n",
       "count    1350.000000    1350.000000  \n",
       "mean     1978.471852  186406.312593  \n",
       "std        25.377278   78435.424758  \n",
       "min      1900.000000   12789.000000  \n",
       "25%      1961.000000  135000.000000  \n",
       "50%      1978.500000  165375.000000  \n",
       "75%      2002.000000  217875.000000  \n",
       "max      2207.000000  745000.000000  "
      ]
     },
     "execution_count": 92,
     "metadata": {},
     "output_type": "execute_result"
    }
   ],
   "source": [
    "X_train_df.describe()"
   ]
  },
  {
   "cell_type": "code",
   "execution_count": 93,
   "metadata": {},
   "outputs": [
    {
     "data": {
      "text/html": [
       "<div>\n",
       "<style scoped>\n",
       "    .dataframe tbody tr th:only-of-type {\n",
       "        vertical-align: middle;\n",
       "    }\n",
       "\n",
       "    .dataframe tbody tr th {\n",
       "        vertical-align: top;\n",
       "    }\n",
       "\n",
       "    .dataframe thead th {\n",
       "        text-align: right;\n",
       "    }\n",
       "</style>\n",
       "<table border=\"1\" class=\"dataframe\">\n",
       "  <thead>\n",
       "    <tr style=\"text-align: right;\">\n",
       "      <th></th>\n",
       "      <th>id</th>\n",
       "      <th>Overall Qual</th>\n",
       "      <th>Gr Liv Area</th>\n",
       "      <th>Exter Qual</th>\n",
       "      <th>Garage Cars</th>\n",
       "      <th>Garage Area</th>\n",
       "      <th>Kitchen Qual</th>\n",
       "      <th>Total Bsmt SF</th>\n",
       "      <th>1st Flr SF</th>\n",
       "      <th>Bsmt Qual</th>\n",
       "      <th>Full Bath</th>\n",
       "      <th>Year Built</th>\n",
       "      <th>Year Remod/Add</th>\n",
       "      <th>Garage Yr Blt</th>\n",
       "      <th>target</th>\n",
       "    </tr>\n",
       "  </thead>\n",
       "  <tbody>\n",
       "    <tr>\n",
       "      <th>254</th>\n",
       "      <td>255</td>\n",
       "      <td>8</td>\n",
       "      <td>1564</td>\n",
       "      <td>Gd</td>\n",
       "      <td>2</td>\n",
       "      <td>502</td>\n",
       "      <td>Ex</td>\n",
       "      <td>1546</td>\n",
       "      <td>1564</td>\n",
       "      <td>Gd</td>\n",
       "      <td>2</td>\n",
       "      <td>2006</td>\n",
       "      <td>2007</td>\n",
       "      <td>2207</td>\n",
       "      <td>267300</td>\n",
       "    </tr>\n",
       "  </tbody>\n",
       "</table>\n",
       "</div>"
      ],
      "text/plain": [
       "      id  Overall Qual  Gr Liv Area Exter Qual  Garage Cars  Garage Area  \\\n",
       "254  255             8         1564         Gd            2          502   \n",
       "\n",
       "    Kitchen Qual  Total Bsmt SF  1st Flr SF Bsmt Qual  Full Bath  Year Built  \\\n",
       "254           Ex           1546        1564        Gd          2        2006   \n",
       "\n",
       "     Year Remod/Add  Garage Yr Blt  target  \n",
       "254            2007           2207  267300  "
      ]
     },
     "execution_count": 93,
     "metadata": {},
     "output_type": "execute_result"
    }
   ],
   "source": [
    "X_train_df[X_train_df['Garage Yr Blt']>=2022]"
   ]
  },
  {
   "cell_type": "code",
   "execution_count": 94,
   "metadata": {},
   "outputs": [
    {
     "data": {
      "text/html": [
       "<div>\n",
       "<style scoped>\n",
       "    .dataframe tbody tr th:only-of-type {\n",
       "        vertical-align: middle;\n",
       "    }\n",
       "\n",
       "    .dataframe tbody tr th {\n",
       "        vertical-align: top;\n",
       "    }\n",
       "\n",
       "    .dataframe thead th {\n",
       "        text-align: right;\n",
       "    }\n",
       "</style>\n",
       "<table border=\"1\" class=\"dataframe\">\n",
       "  <thead>\n",
       "    <tr style=\"text-align: right;\">\n",
       "      <th></th>\n",
       "      <th>id</th>\n",
       "      <th>Overall Qual</th>\n",
       "      <th>Gr Liv Area</th>\n",
       "      <th>Exter Qual</th>\n",
       "      <th>Garage Cars</th>\n",
       "      <th>Garage Area</th>\n",
       "      <th>Kitchen Qual</th>\n",
       "      <th>Total Bsmt SF</th>\n",
       "      <th>1st Flr SF</th>\n",
       "      <th>Bsmt Qual</th>\n",
       "      <th>Full Bath</th>\n",
       "      <th>Year Built</th>\n",
       "      <th>Year Remod/Add</th>\n",
       "      <th>Garage Yr Blt</th>\n",
       "      <th>target</th>\n",
       "    </tr>\n",
       "  </thead>\n",
       "  <tbody>\n",
       "    <tr>\n",
       "      <th>1</th>\n",
       "      <td>2</td>\n",
       "      <td>7</td>\n",
       "      <td>1352</td>\n",
       "      <td>Gd</td>\n",
       "      <td>2</td>\n",
       "      <td>466</td>\n",
       "      <td>Gd</td>\n",
       "      <td>1352</td>\n",
       "      <td>1352</td>\n",
       "      <td>Ex</td>\n",
       "      <td>2</td>\n",
       "      <td>2006</td>\n",
       "      <td>2007</td>\n",
       "      <td>2006</td>\n",
       "      <td>194000</td>\n",
       "    </tr>\n",
       "    <tr>\n",
       "      <th>19</th>\n",
       "      <td>20</td>\n",
       "      <td>6</td>\n",
       "      <td>1326</td>\n",
       "      <td>Gd</td>\n",
       "      <td>2</td>\n",
       "      <td>427</td>\n",
       "      <td>Gd</td>\n",
       "      <td>1326</td>\n",
       "      <td>1326</td>\n",
       "      <td>Gd</td>\n",
       "      <td>2</td>\n",
       "      <td>2006</td>\n",
       "      <td>2006</td>\n",
       "      <td>2006</td>\n",
       "      <td>174190</td>\n",
       "    </tr>\n",
       "    <tr>\n",
       "      <th>67</th>\n",
       "      <td>68</td>\n",
       "      <td>8</td>\n",
       "      <td>1460</td>\n",
       "      <td>Gd</td>\n",
       "      <td>2</td>\n",
       "      <td>480</td>\n",
       "      <td>Gd</td>\n",
       "      <td>1460</td>\n",
       "      <td>1460</td>\n",
       "      <td>Ex</td>\n",
       "      <td>2</td>\n",
       "      <td>2006</td>\n",
       "      <td>2007</td>\n",
       "      <td>2006</td>\n",
       "      <td>247000</td>\n",
       "    </tr>\n",
       "    <tr>\n",
       "      <th>97</th>\n",
       "      <td>98</td>\n",
       "      <td>6</td>\n",
       "      <td>1495</td>\n",
       "      <td>Gd</td>\n",
       "      <td>2</td>\n",
       "      <td>440</td>\n",
       "      <td>Gd</td>\n",
       "      <td>738</td>\n",
       "      <td>738</td>\n",
       "      <td>Gd</td>\n",
       "      <td>2</td>\n",
       "      <td>2006</td>\n",
       "      <td>2006</td>\n",
       "      <td>2006</td>\n",
       "      <td>171925</td>\n",
       "    </tr>\n",
       "    <tr>\n",
       "      <th>102</th>\n",
       "      <td>103</td>\n",
       "      <td>8</td>\n",
       "      <td>1324</td>\n",
       "      <td>Gd</td>\n",
       "      <td>2</td>\n",
       "      <td>550</td>\n",
       "      <td>Gd</td>\n",
       "      <td>1324</td>\n",
       "      <td>1324</td>\n",
       "      <td>Gd</td>\n",
       "      <td>2</td>\n",
       "      <td>2006</td>\n",
       "      <td>2006</td>\n",
       "      <td>2006</td>\n",
       "      <td>254000</td>\n",
       "    </tr>\n",
       "    <tr>\n",
       "      <th>...</th>\n",
       "      <td>...</td>\n",
       "      <td>...</td>\n",
       "      <td>...</td>\n",
       "      <td>...</td>\n",
       "      <td>...</td>\n",
       "      <td>...</td>\n",
       "      <td>...</td>\n",
       "      <td>...</td>\n",
       "      <td>...</td>\n",
       "      <td>...</td>\n",
       "      <td>...</td>\n",
       "      <td>...</td>\n",
       "      <td>...</td>\n",
       "      <td>...</td>\n",
       "      <td>...</td>\n",
       "    </tr>\n",
       "    <tr>\n",
       "      <th>1288</th>\n",
       "      <td>1289</td>\n",
       "      <td>7</td>\n",
       "      <td>1977</td>\n",
       "      <td>Gd</td>\n",
       "      <td>3</td>\n",
       "      <td>574</td>\n",
       "      <td>Gd</td>\n",
       "      <td>982</td>\n",
       "      <td>982</td>\n",
       "      <td>Gd</td>\n",
       "      <td>2</td>\n",
       "      <td>2006</td>\n",
       "      <td>2006</td>\n",
       "      <td>2006</td>\n",
       "      <td>250000</td>\n",
       "    </tr>\n",
       "    <tr>\n",
       "      <th>1327</th>\n",
       "      <td>1328</td>\n",
       "      <td>8</td>\n",
       "      <td>1634</td>\n",
       "      <td>Gd</td>\n",
       "      <td>3</td>\n",
       "      <td>866</td>\n",
       "      <td>Gd</td>\n",
       "      <td>1626</td>\n",
       "      <td>1634</td>\n",
       "      <td>Gd</td>\n",
       "      <td>2</td>\n",
       "      <td>2006</td>\n",
       "      <td>2006</td>\n",
       "      <td>2006</td>\n",
       "      <td>250000</td>\n",
       "    </tr>\n",
       "    <tr>\n",
       "      <th>1328</th>\n",
       "      <td>1329</td>\n",
       "      <td>8</td>\n",
       "      <td>1370</td>\n",
       "      <td>Gd</td>\n",
       "      <td>2</td>\n",
       "      <td>484</td>\n",
       "      <td>Gd</td>\n",
       "      <td>1370</td>\n",
       "      <td>1370</td>\n",
       "      <td>Gd</td>\n",
       "      <td>2</td>\n",
       "      <td>2006</td>\n",
       "      <td>2006</td>\n",
       "      <td>2006</td>\n",
       "      <td>205000</td>\n",
       "    </tr>\n",
       "    <tr>\n",
       "      <th>1336</th>\n",
       "      <td>1337</td>\n",
       "      <td>10</td>\n",
       "      <td>2698</td>\n",
       "      <td>Ex</td>\n",
       "      <td>3</td>\n",
       "      <td>736</td>\n",
       "      <td>Ex</td>\n",
       "      <td>1850</td>\n",
       "      <td>1850</td>\n",
       "      <td>Ex</td>\n",
       "      <td>2</td>\n",
       "      <td>2006</td>\n",
       "      <td>2006</td>\n",
       "      <td>2006</td>\n",
       "      <td>535000</td>\n",
       "    </tr>\n",
       "    <tr>\n",
       "      <th>1346</th>\n",
       "      <td>1347</td>\n",
       "      <td>9</td>\n",
       "      <td>2748</td>\n",
       "      <td>Gd</td>\n",
       "      <td>3</td>\n",
       "      <td>850</td>\n",
       "      <td>Ex</td>\n",
       "      <td>1850</td>\n",
       "      <td>1850</td>\n",
       "      <td>Ex</td>\n",
       "      <td>2</td>\n",
       "      <td>2006</td>\n",
       "      <td>2006</td>\n",
       "      <td>2006</td>\n",
       "      <td>390000</td>\n",
       "    </tr>\n",
       "  </tbody>\n",
       "</table>\n",
       "<p>63 rows × 15 columns</p>\n",
       "</div>"
      ],
      "text/plain": [
       "        id  Overall Qual  Gr Liv Area Exter Qual  Garage Cars  Garage Area  \\\n",
       "1        2             7         1352         Gd            2          466   \n",
       "19      20             6         1326         Gd            2          427   \n",
       "67      68             8         1460         Gd            2          480   \n",
       "97      98             6         1495         Gd            2          440   \n",
       "102    103             8         1324         Gd            2          550   \n",
       "...    ...           ...          ...        ...          ...          ...   \n",
       "1288  1289             7         1977         Gd            3          574   \n",
       "1327  1328             8         1634         Gd            3          866   \n",
       "1328  1329             8         1370         Gd            2          484   \n",
       "1336  1337            10         2698         Ex            3          736   \n",
       "1346  1347             9         2748         Gd            3          850   \n",
       "\n",
       "     Kitchen Qual  Total Bsmt SF  1st Flr SF Bsmt Qual  Full Bath  Year Built  \\\n",
       "1              Gd           1352        1352        Ex          2        2006   \n",
       "19             Gd           1326        1326        Gd          2        2006   \n",
       "67             Gd           1460        1460        Ex          2        2006   \n",
       "97             Gd            738         738        Gd          2        2006   \n",
       "102            Gd           1324        1324        Gd          2        2006   \n",
       "...           ...            ...         ...       ...        ...         ...   \n",
       "1288           Gd            982         982        Gd          2        2006   \n",
       "1327           Gd           1626        1634        Gd          2        2006   \n",
       "1328           Gd           1370        1370        Gd          2        2006   \n",
       "1336           Ex           1850        1850        Ex          2        2006   \n",
       "1346           Ex           1850        1850        Ex          2        2006   \n",
       "\n",
       "      Year Remod/Add  Garage Yr Blt  target  \n",
       "1               2007           2006  194000  \n",
       "19              2006           2006  174190  \n",
       "67              2007           2006  247000  \n",
       "97              2006           2006  171925  \n",
       "102             2006           2006  254000  \n",
       "...              ...            ...     ...  \n",
       "1288            2006           2006  250000  \n",
       "1327            2006           2006  250000  \n",
       "1328            2006           2006  205000  \n",
       "1336            2006           2006  535000  \n",
       "1346            2006           2006  390000  \n",
       "\n",
       "[63 rows x 15 columns]"
      ]
     },
     "execution_count": 94,
     "metadata": {},
     "output_type": "execute_result"
    }
   ],
   "source": [
    "X_train_df[X_train_df['Year Built']==2006]"
   ]
  },
  {
   "cell_type": "markdown",
   "metadata": {},
   "source": [
    "#### Describe() 확인 결과, Grage Yr Blt 값 중 하나가 비정상적으로 큽니다\n",
    "#### 2007을 2207로 잘못 쓴게 아닌가 직관적으로 판단해봅니다\n",
    "#### 그런데 Year Built 연도가 2006인 경우, 보통 차고를 2006년에 같이 짓는 경우가 데이터 상 대부분입니다\n",
    "#### 2006으로 바꿔봤더니 성능이 조금 더 좋아져서 2006으로 변경했습니다 (사실 별 차이 없습니다)"
   ]
  },
  {
   "cell_type": "code",
   "execution_count": 95,
   "metadata": {},
   "outputs": [],
   "source": [
    "X_train_df.loc[(X_train_df['Garage Yr Blt'] == 2207), 'Garage Yr Blt']=2006"
   ]
  },
  {
   "cell_type": "code",
   "execution_count": 96,
   "metadata": {},
   "outputs": [],
   "source": [
    "grade = ['Ex', 'Gd', 'TA', 'Fa', 'Po']\n",
    "j=5\n",
    "for i in grade:\n",
    "    X_train_df.loc[(X_train_df['Exter Qual'] == i), 'Exter Qual'] = j\n",
    "    X_train_df.loc[(X_train_df['Kitchen Qual'] == i), 'Kitchen Qual'] = j\n",
    "    X_train_df.loc[(X_train_df['Bsmt Qual'] == i), 'Bsmt Qual'] = j\n",
    "    X_test_df.loc[(X_test_df['Exter Qual'] == i), 'Exter Qual'] = j\n",
    "    X_test_df.loc[(X_test_df['Kitchen Qual'] == i), 'Kitchen Qual'] = j\n",
    "    X_test_df.loc[(X_test_df['Bsmt Qual'] == i), 'Bsmt Qual'] = j\n",
    "    j-=1"
   ]
  },
  {
   "cell_type": "markdown",
   "metadata": {},
   "source": [
    "#### 범주형 변수를 수치형으로 바꿔줍니다\n",
    "#### 순간 라벨 인코딩이 생각나지 않아(핑곕니다)\n",
    "#### 조악한 코딩실력으로 반복문을 구사해봅니다"
   ]
  },
  {
   "cell_type": "code",
   "execution_count": 97,
   "metadata": {},
   "outputs": [
    {
     "name": "stdout",
     "output_type": "stream",
     "text": [
      "<class 'pandas.core.frame.DataFrame'>\n",
      "RangeIndex: 1350 entries, 0 to 1349\n",
      "Data columns (total 15 columns):\n",
      " #   Column          Non-Null Count  Dtype \n",
      "---  ------          --------------  ----- \n",
      " 0   id              1350 non-null   int64 \n",
      " 1   Overall Qual    1350 non-null   int64 \n",
      " 2   Gr Liv Area     1350 non-null   int64 \n",
      " 3   Exter Qual      1350 non-null   object\n",
      " 4   Garage Cars     1350 non-null   int64 \n",
      " 5   Garage Area     1350 non-null   int64 \n",
      " 6   Kitchen Qual    1350 non-null   object\n",
      " 7   Total Bsmt SF   1350 non-null   int64 \n",
      " 8   1st Flr SF      1350 non-null   int64 \n",
      " 9   Bsmt Qual       1350 non-null   object\n",
      " 10  Full Bath       1350 non-null   int64 \n",
      " 11  Year Built      1350 non-null   int64 \n",
      " 12  Year Remod/Add  1350 non-null   int64 \n",
      " 13  Garage Yr Blt   1350 non-null   int64 \n",
      " 14  target          1350 non-null   int64 \n",
      "dtypes: int64(12), object(3)\n",
      "memory usage: 158.3+ KB\n"
     ]
    }
   ],
   "source": [
    "X_train_df.info()"
   ]
  },
  {
   "cell_type": "markdown",
   "metadata": {},
   "source": [
    "#### 어딘가 문제가 있음을 직감합니다"
   ]
  },
  {
   "cell_type": "code",
   "execution_count": 98,
   "metadata": {},
   "outputs": [],
   "source": [
    "X_train_df['Exter Qual'] = pd.to_numeric(X_train_df['Exter Qual'])\n",
    "X_train_df['Kitchen Qual'] = pd.to_numeric(X_train_df['Kitchen Qual'])\n",
    "X_train_df['Bsmt Qual'] = pd.to_numeric(X_train_df['Bsmt Qual'])\n",
    "X_test_df['Exter Qual'] = pd.to_numeric(X_test_df['Exter Qual'])\n",
    "X_test_df['Kitchen Qual'] = pd.to_numeric(X_test_df['Kitchen Qual'])\n",
    "X_test_df['Bsmt Qual'] = pd.to_numeric(X_test_df['Bsmt Qual'])"
   ]
  },
  {
   "cell_type": "markdown",
   "metadata": {},
   "source": [
    "#### 결국 numeric함수까지 쓰면서 두 번에 걸쳐 수치형 변환을 마칩니다"
   ]
  },
  {
   "cell_type": "code",
   "execution_count": 99,
   "metadata": {},
   "outputs": [],
   "source": [
    "X = X_train_df.drop(['id', 'target'], axis=1)\n",
    "y = X_train_df.target\n",
    "X_test = X_test_df.drop(['id'], axis=1)"
   ]
  },
  {
   "cell_type": "code",
   "execution_count": 100,
   "metadata": {},
   "outputs": [
    {
     "name": "stdout",
     "output_type": "stream",
     "text": [
      "<class 'pandas.core.frame.DataFrame'>\n",
      "RangeIndex: 1350 entries, 0 to 1349\n",
      "Data columns (total 13 columns):\n",
      " #   Column          Non-Null Count  Dtype\n",
      "---  ------          --------------  -----\n",
      " 0   Overall Qual    1350 non-null   int64\n",
      " 1   Gr Liv Area     1350 non-null   int64\n",
      " 2   Exter Qual      1350 non-null   int64\n",
      " 3   Garage Cars     1350 non-null   int64\n",
      " 4   Garage Area     1350 non-null   int64\n",
      " 5   Kitchen Qual    1350 non-null   int64\n",
      " 6   Total Bsmt SF   1350 non-null   int64\n",
      " 7   1st Flr SF      1350 non-null   int64\n",
      " 8   Bsmt Qual       1350 non-null   int64\n",
      " 9   Full Bath       1350 non-null   int64\n",
      " 10  Year Built      1350 non-null   int64\n",
      " 11  Year Remod/Add  1350 non-null   int64\n",
      " 12  Garage Yr Blt   1350 non-null   int64\n",
      "dtypes: int64(13)\n",
      "memory usage: 137.2 KB\n"
     ]
    }
   ],
   "source": [
    "X.info()"
   ]
  },
  {
   "cell_type": "code",
   "execution_count": 101,
   "metadata": {},
   "outputs": [],
   "source": [
    "def feature(data):\n",
    "  df = data.copy()\n",
    "  df['Year Gap Remod'] = df['Year Remod/Add'] - df['Year Built']\n",
    "  df['Car Area'] = df['Garage Area']/df['Garage Cars']\n",
    "  df['2nd flr SF'] = df['Gr Liv Area'] - df['1st Flr SF']\n",
    "  df['2nd flr'] = df['2nd flr SF'].apply(lambda x : 1 if x > 0 else 0)\n",
    "  df['Total SF'] = df[['Gr Liv Area',\"Garage Area\", \"Total Bsmt SF\"]].sum(axis=1)\n",
    "  df['Sum Qual'] = df[[\"Exter Qual\", \"Kitchen Qual\", \"Overall Qual\"]].sum(axis=1)\n",
    "  df['Garage InOut'] = df.apply(lambda x : 1 if x['Gr Liv Area'] != x['1st Flr SF'] else 0, axis=1)\n",
    "  return df"
   ]
  },
  {
   "cell_type": "markdown",
   "metadata": {},
   "source": [
    "#### [동화책] 님의 파생변수를 활용합니다 (정말 감사합니다)\n",
    "#### 파생변수들 간의 교호작용도나 다중공선성의 우려로 수동후진제거법을 통해 최적의 변수 조합을 찾습니다 (수동후진제거법 : 노가다법)\n",
    "#### → 결론 : 다 쓰는게 제일 좋습니다"
   ]
  },
  {
   "cell_type": "code",
   "execution_count": 102,
   "metadata": {},
   "outputs": [],
   "source": [
    "X = feature(X)\n",
    "X_test0 = feature(X_test)"
   ]
  },
  {
   "cell_type": "code",
   "execution_count": 103,
   "metadata": {},
   "outputs": [],
   "source": [
    "X_train, X_valid, y_train, y_valid=train_test_split(X, y, test_size=0.2, random_state=0)"
   ]
  },
  {
   "cell_type": "markdown",
   "metadata": {},
   "source": [
    "#### 학습셋과 검증셋을 나누어 줍니다"
   ]
  },
  {
   "cell_type": "code",
   "execution_count": 104,
   "metadata": {},
   "outputs": [],
   "source": [
    "from sklearn.metrics import make_scorer\n",
    "\n",
    "def NMAE(true, pred):\n",
    "    mae = np.mean(np.abs(true - pred))\n",
    "    score = mae / np.mean(np.abs(true))\n",
    "    return score\n",
    "\n",
    "nmae_score = make_scorer(NMAE, greater_is_better=False)"
   ]
  },
  {
   "cell_type": "code",
   "execution_count": 105,
   "metadata": {},
   "outputs": [],
   "source": [
    "from sklearn.ensemble import RandomForestRegressor, GradientBoostingRegressor\n",
    "from sklearn.tree import DecisionTreeRegressor\n",
    "from sklearn.ensemble import ExtraTreesRegressor\n",
    "from xgboost import XGBRegressor\n",
    "from lightgbm import LGBMRegressor\n",
    "from sklearn.linear_model import ElasticNet\n",
    "from sklearn.ensemble import AdaBoostRegressor\n",
    "from catboost import CatBoostRegressor, Pool\n",
    "from ngboost import NGBRegressor\n",
    "from sklearn.ensemble import HistGradientBoostingRegressor\n",
    "from sklearn.linear_model import LinearRegression, Lasso, Ridge, ElasticNet"
   ]
  },
  {
   "cell_type": "markdown",
   "metadata": {},
   "source": [
    "#### 알고 있는 회귀모델은 모두 사용해봅니다 (사실 몰랐던 것도 있습니다_코드 공유해주신 모든 분들 감사합니다)"
   ]
  },
  {
   "cell_type": "code",
   "execution_count": 106,
   "metadata": {},
   "outputs": [],
   "source": [
    "etr=ExtraTreesRegressor(n_estimators=200)\n",
    "lr=LinearRegression()\n",
    "rg=Ridge()\n",
    "rf=RandomForestRegressor(random_state = 42, criterion = 'mae')\n",
    "gbr=GradientBoostingRegressor(random_state = 42, max_depth = 4, learning_rate=0.09, loss='huber', n_estimators=130)\n",
    "xgb=XGBRegressor(random_state = 42, learning_rate=0.05, n_estimators=200)\n",
    "lgb=LGBMRegressor(random_state = 42, learning_rate=0.05, n_estimators=200)\n",
    "ada=AdaBoostRegressor(random_state = 42, learning_rate=0.03, n_estimators=100)\n",
    "hgb=HistGradientBoostingRegressor(random_state=42, scoring=nmae_score, learning_rate=0.09)\n",
    "ngb=NGBRegressor(random_state = 42, n_estimators = 500, verbose = 0, learning_rate = 0.03)\n",
    "cat_reg=CatBoostRegressor(depth = 4, random_state = 42, loss_function = 'MAE', n_estimators = 3000, learning_rate = 0.03, verbose = 0)"
   ]
  },
  {
   "cell_type": "markdown",
   "metadata": {},
   "source": [
    "#### 하이퍼파라미터를 수정해보며 최적의 조건을 찾아봅니다\n",
    "#### (개발자처럼 보이기위해 random_state는 꼭 42를 넣어줍니다)"
   ]
  },
  {
   "cell_type": "code",
   "execution_count": 107,
   "metadata": {},
   "outputs": [
    {
     "data": {
      "text/plain": [
       "<catboost.core.CatBoostRegressor at 0x1f27765a978>"
      ]
     },
     "execution_count": 107,
     "metadata": {},
     "output_type": "execute_result"
    }
   ],
   "source": [
    "etr.fit(X_train,y_train)\n",
    "lr.fit(X_train,y_train)\n",
    "rg.fit(X_train,y_train)\n",
    "rf.fit(X_train,y_train)\n",
    "gbr.fit(X_train,y_train)\n",
    "xgb.fit(X_train,y_train)\n",
    "lgb.fit(X_train,y_train)\n",
    "ada.fit(X_train,y_train)\n",
    "hgb.fit(X_train,y_train)\n",
    "ngb.fit(X_train,y_train)\n",
    "cat_reg.fit(X_train,y_train)"
   ]
  },
  {
   "cell_type": "code",
   "execution_count": 108,
   "metadata": {},
   "outputs": [],
   "source": [
    "y_etr=etr.predict(X_valid)\n",
    "y_lr=lr.predict(X_valid)\n",
    "y_rg=rg.predict(X_valid)\n",
    "y_rf=rf.predict(X_valid)\n",
    "y_gbr=gbr.predict(X_valid)\n",
    "y_xgb=xgb.predict(X_valid)\n",
    "y_lgb=lgb.predict(X_valid)\n",
    "y_ada=ada.predict(X_valid)\n",
    "y_hgb=hgb.predict(X_valid)\n",
    "y_ngb=ngb.predict(X_valid)\n",
    "y_cat=cat_reg.predict(X_valid)"
   ]
  },
  {
   "cell_type": "code",
   "execution_count": 109,
   "metadata": {},
   "outputs": [],
   "source": [
    "score_etr=NMAE(y_valid, y_etr)\n",
    "score_lr=NMAE(y_valid, y_lr)\n",
    "score_rg=NMAE(y_valid, y_rg)\n",
    "score_rf=NMAE(y_valid, y_rf)\n",
    "score_gbr=NMAE(y_valid, y_gbr)\n",
    "score_xgb=NMAE(y_valid, y_xgb)\n",
    "score_lgb=NMAE(y_valid, y_lgb)\n",
    "score_ada=NMAE(y_valid, y_ada)\n",
    "score_hgb=NMAE(y_valid, y_hgb)\n",
    "score_ngb=NMAE(y_valid, y_ngb)\n",
    "score_cat=NMAE(y_valid, y_cat)"
   ]
  },
  {
   "cell_type": "code",
   "execution_count": 110,
   "metadata": {},
   "outputs": [
    {
     "name": "stdout",
     "output_type": "stream",
     "text": [
      "0.09710679251995159\n",
      "0.11708781373271379\n",
      "0.1170358457879726\n",
      "0.09570322997436387\n",
      "0.09304870273394181\n",
      "0.09530635456146015\n",
      "0.09943048864861777\n",
      "0.1148831783103004\n",
      "0.09960593628193293\n",
      "0.09830163250820703\n",
      "0.09357727386707837\n"
     ]
    }
   ],
   "source": [
    "print(score_etr)\n",
    "print(score_lr)\n",
    "print(score_rg)\n",
    "print(score_rf)\n",
    "print(score_gbr)\n",
    "print(score_xgb)\n",
    "print(score_lgb)\n",
    "print(score_ada)\n",
    "print(score_hgb)\n",
    "print(score_ngb)\n",
    "print(score_cat)"
   ]
  },
  {
   "cell_type": "markdown",
   "metadata": {},
   "source": [
    "#### 나름 좋은 결과를 보이고 있는 모델들만 선정해줍니다 : ETR+RF+GBR+XGB+LGB+HGB+NGB+CAT"
   ]
  },
  {
   "cell_type": "code",
   "execution_count": 111,
   "metadata": {},
   "outputs": [],
   "source": [
    "from sklearn.model_selection import KFold\n",
    "kf = KFold(n_splits = 10, random_state = 42, shuffle = True)"
   ]
  },
  {
   "cell_type": "markdown",
   "metadata": {},
   "source": [
    "#### Kfold로 fold별 val값, predict값을 평균내어 일반화 성능을 끌어올립니다"
   ]
  },
  {
   "cell_type": "code",
   "execution_count": 112,
   "metadata": {},
   "outputs": [],
   "source": [
    "X = X_train_df.drop(['id', 'target'], axis=1)\n",
    "y = np.log1p(X_train_df.target)\n",
    "X_test = X_test_df.drop(['id'], axis=1)"
   ]
  },
  {
   "cell_type": "code",
   "execution_count": 113,
   "metadata": {},
   "outputs": [],
   "source": [
    "def feature(data):\n",
    "  df = data.copy()\n",
    "  df['Year Gap Remod'] = df['Year Remod/Add'] - df['Year Built']\n",
    "  df['Car Area'] = df['Garage Area']/df['Garage Cars']\n",
    "  df['2nd flr SF'] = df['Gr Liv Area'] - df['1st Flr SF']\n",
    "  df['2nd flr'] = df['2nd flr SF'].apply(lambda x : 1 if x > 0 else 0)\n",
    "  df['Total SF'] = df[['Gr Liv Area',\"Garage Area\", \"Total Bsmt SF\"]].sum(axis=1)\n",
    "  df['Sum Qual'] = df[[\"Exter Qual\", \"Kitchen Qual\", \"Overall Qual\"]].sum(axis=1)\n",
    "  df['Garage InOut'] = df.apply(lambda x : 1 if x['Gr Liv Area'] != x['1st Flr SF'] else 0, axis=1)\n",
    "  return df"
   ]
  },
  {
   "cell_type": "code",
   "execution_count": 114,
   "metadata": {},
   "outputs": [],
   "source": [
    "X = feature(X)\n",
    "target = feature(X_test)"
   ]
  },
  {
   "cell_type": "markdown",
   "metadata": {},
   "source": [
    "#### [기세현] 님의 코드를 참고하여 fold별 평균내는 방식을 활용합니다 (감사합니다!)"
   ]
  },
  {
   "cell_type": "code",
   "execution_count": 115,
   "metadata": {},
   "outputs": [
    {
     "name": "stdout",
     "output_type": "stream",
     "text": [
      "1 FOLD NMAE = 0.08348082344654736\n",
      "2 FOLD NMAE = 0.09926120262646408\n",
      "3 FOLD NMAE = 0.0985187956273541\n",
      "4 FOLD NMAE = 0.11592711095418551\n",
      "5 FOLD NMAE = 0.08859707200721012\n",
      "6 FOLD NMAE = 0.0917048363253914\n",
      "7 FOLD NMAE = 0.088818592045209\n",
      "8 FOLD NMAE = 0.09266628380580993\n",
      "9 FOLD NMAE = 0.09633600419116427\n",
      "10 FOLD NMAE = 0.10570491401069537\n",
      "10FOLD Mean of NMAE = 0.09610156350400312\n"
     ]
    }
   ],
   "source": [
    "# ExtraTreesRegression\n",
    "etr_pred = np.zeros(target.shape[0])\n",
    "etr_val = []\n",
    "for n, (tr_idx, val_idx) in enumerate(kf.split(X, y)) :\n",
    "    tr_x, tr_y = X.iloc[tr_idx], y.iloc[tr_idx]\n",
    "    val_x, val_y = X.iloc[val_idx], np.expm1(y.iloc[val_idx])\n",
    "    \n",
    "    etr = ExtraTreesRegressor(n_estimators=200)\n",
    "    etr.fit(tr_x, tr_y)\n",
    "    \n",
    "    val_pred = np.expm1(etr.predict(val_x))\n",
    "    val_nmae = NMAE(val_y, val_pred)\n",
    "    etr_val.append(val_nmae)\n",
    "    print(f'{n + 1} FOLD NMAE = {val_nmae}')\n",
    "    \n",
    "    target_data = Pool(data = target, label = None)\n",
    "    fold_pred = etr.predict(target) / 10\n",
    "    etr_pred += fold_pred\n",
    "print(f'10FOLD Mean of NMAE = {np.mean(etr_val)}')"
   ]
  },
  {
   "cell_type": "code",
   "execution_count": 116,
   "metadata": {},
   "outputs": [
    {
     "name": "stdout",
     "output_type": "stream",
     "text": [
      "1 FOLD NMAE = 0.08585678827973406\n",
      "2 FOLD NMAE = 0.09632028410805153\n",
      "3 FOLD NMAE = 0.09554507250507027\n",
      "4 FOLD NMAE = 0.11977174230217227\n",
      "5 FOLD NMAE = 0.09064243907754439\n",
      "6 FOLD NMAE = 0.09381156996589246\n",
      "7 FOLD NMAE = 0.09032593532044049\n",
      "8 FOLD NMAE = 0.09432661903251707\n",
      "9 FOLD NMAE = 0.09595347553328439\n",
      "10 FOLD NMAE = 0.10419357109533382\n",
      "10FOLD Mean of NMAE = 0.09667474972200407\n"
     ]
    }
   ],
   "source": [
    "# RandomForestRegressor\n",
    "rf_pred = np.zeros(target.shape[0])\n",
    "rf_val = []\n",
    "for n, (tr_idx, val_idx) in enumerate(kf.split(X, y)) :\n",
    "    tr_x, tr_y = X.iloc[tr_idx], y.iloc[tr_idx]\n",
    "    val_x, val_y = X.iloc[val_idx], np.expm1(y.iloc[val_idx])\n",
    "    \n",
    "    rf = RandomForestRegressor(random_state = 42, criterion = 'mae')\n",
    "    rf.fit(tr_x, tr_y)\n",
    "    \n",
    "    val_pred = np.expm1(rf.predict(val_x))\n",
    "    val_nmae = NMAE(val_y, val_pred)\n",
    "    rf_val.append(val_nmae)\n",
    "    print(f'{n + 1} FOLD NMAE = {val_nmae}')\n",
    "    \n",
    "    fold_pred = rf.predict(target) / 10\n",
    "    rf_pred += fold_pred\n",
    "print(f'10FOLD Mean of NMAE = {np.mean(rf_val)}')"
   ]
  },
  {
   "cell_type": "code",
   "execution_count": 117,
   "metadata": {},
   "outputs": [
    {
     "name": "stdout",
     "output_type": "stream",
     "text": [
      "1 FOLD NMAE = 0.08083175694870585\n",
      "2 FOLD NMAE = 0.10135722921587453\n",
      "3 FOLD NMAE = 0.09723700154112937\n",
      "4 FOLD NMAE = 0.11562379932443151\n",
      "5 FOLD NMAE = 0.08635983383473296\n",
      "6 FOLD NMAE = 0.0929372744667634\n",
      "7 FOLD NMAE = 0.09779780943576759\n",
      "8 FOLD NMAE = 0.09119687509116622\n",
      "9 FOLD NMAE = 0.09222487890062216\n",
      "10 FOLD NMAE = 0.10175773224288907\n",
      "10FOLD Mean of NMAE = 0.09573241910020827\n"
     ]
    }
   ],
   "source": [
    "# GradientBoostingRegressor\n",
    "gbr_pred = np.zeros(target.shape[0])\n",
    "gbr_val = []\n",
    "for n, (tr_idx, val_idx) in enumerate(kf.split(X, y)) :\n",
    "    tr_x, tr_y = X.iloc[tr_idx], y.iloc[tr_idx]\n",
    "    val_x, val_y = X.iloc[val_idx], np.expm1(y.iloc[val_idx])\n",
    "    \n",
    "    gbr = GradientBoostingRegressor(random_state = 42, max_depth = 4, learning_rate=0.09, loss='huber', n_estimators=130)\n",
    "    gbr.fit(tr_x, tr_y)\n",
    "    \n",
    "    val_pred = np.expm1(gbr.predict(val_x))\n",
    "    val_nmae = NMAE(val_y, val_pred)\n",
    "    gbr_val.append(val_nmae)\n",
    "    print(f'{n + 1} FOLD NMAE = {val_nmae}')\n",
    "    \n",
    "    fold_pred = gbr.predict(target) / 10\n",
    "    gbr_pred += fold_pred\n",
    "print(f'10FOLD Mean of NMAE = {np.mean(gbr_val)}')"
   ]
  },
  {
   "cell_type": "code",
   "execution_count": 118,
   "metadata": {},
   "outputs": [
    {
     "name": "stdout",
     "output_type": "stream",
     "text": [
      "1 FOLD NMAE = 0.08497414714282708\n",
      "2 FOLD NMAE = 0.09932995637104627\n",
      "3 FOLD NMAE = 0.09879971207971086\n",
      "4 FOLD NMAE = 0.11210960196424802\n",
      "5 FOLD NMAE = 0.08818492276057927\n",
      "6 FOLD NMAE = 0.09549798430845158\n",
      "7 FOLD NMAE = 0.09492628770739124\n",
      "8 FOLD NMAE = 0.0914800628396734\n",
      "9 FOLD NMAE = 0.09204532801478633\n",
      "10 FOLD NMAE = 0.1038036676156383\n",
      "10FOLD Mean of NMAE = 0.09611516708043524\n"
     ]
    }
   ],
   "source": [
    "# xgbr\n",
    "xgb_pred = np.zeros(target.shape[0])\n",
    "xgb_val = []\n",
    "for n, (tr_idx, val_idx) in enumerate(kf.split(X, y)) :\n",
    "    tr_x, tr_y = X.iloc[tr_idx], y.iloc[tr_idx]\n",
    "    val_x, val_y = X.iloc[val_idx], np.expm1(y.iloc[val_idx])\n",
    "    \n",
    "    xgb = XGBRegressor(random_state = 42, learning_rate=0.05, n_estimators=200)\n",
    "    xgb.fit(tr_x, tr_y)\n",
    "    \n",
    "    val_pred = np.expm1(xgb.predict(val_x))\n",
    "    val_nmae = NMAE(val_y, val_pred)\n",
    "    xgb_val.append(val_nmae)\n",
    "    print(f'{n + 1} FOLD NMAE = {val_nmae}')\n",
    "    \n",
    "    fold_pred = xgb.predict(target) / 10\n",
    "    xgb_pred += fold_pred\n",
    "print(f'10FOLD Mean of NMAE = {np.mean(xgb_val)}')"
   ]
  },
  {
   "cell_type": "code",
   "execution_count": 119,
   "metadata": {},
   "outputs": [
    {
     "name": "stdout",
     "output_type": "stream",
     "text": [
      "1 FOLD NMAE = 0.08145414725180379\n",
      "2 FOLD NMAE = 0.09553405093358855\n",
      "3 FOLD NMAE = 0.09590850306577946\n",
      "4 FOLD NMAE = 0.11384534486886567\n",
      "5 FOLD NMAE = 0.08985131719867953\n",
      "6 FOLD NMAE = 0.09724316254882125\n",
      "7 FOLD NMAE = 0.0886541999982499\n",
      "8 FOLD NMAE = 0.09740754210583938\n",
      "9 FOLD NMAE = 0.0902262335304943\n",
      "10 FOLD NMAE = 0.10531098676479249\n",
      "10FOLD Mean of NMAE = 0.09554354882669143\n"
     ]
    }
   ],
   "source": [
    "# lgbr\n",
    "lgb_pred = np.zeros(target.shape[0])\n",
    "lgb_val = []\n",
    "for n, (tr_idx, val_idx) in enumerate(kf.split(X, y)) :\n",
    "    tr_x, tr_y = X.iloc[tr_idx], y.iloc[tr_idx]\n",
    "    val_x, val_y = X.iloc[val_idx], np.expm1(y.iloc[val_idx])\n",
    "    \n",
    "    lgb = LGBMRegressor(random_state = 42, learning_rate=0.05, n_estimators=200)\n",
    "    lgb.fit(tr_x, tr_y)\n",
    "    \n",
    "    val_pred = np.expm1(lgb.predict(val_x))\n",
    "    val_nmae = NMAE(val_y, val_pred)\n",
    "    lgb_val.append(val_nmae)\n",
    "    print(f'{n + 1} FOLD NMAE = {val_nmae}')\n",
    "    \n",
    "    fold_pred = lgb.predict(target) / 10\n",
    "    lgb_pred += fold_pred\n",
    "print(f'10FOLD Mean of NMAE = {np.mean(lgb_val)}')"
   ]
  },
  {
   "cell_type": "code",
   "execution_count": 120,
   "metadata": {},
   "outputs": [
    {
     "name": "stdout",
     "output_type": "stream",
     "text": [
      "1 FOLD NMAE = 0.08251162748662036\n",
      "2 FOLD NMAE = 0.09670328735783504\n",
      "3 FOLD NMAE = 0.09760392562366041\n",
      "4 FOLD NMAE = 0.11314114266001851\n",
      "5 FOLD NMAE = 0.08769244264835112\n",
      "6 FOLD NMAE = 0.0955066341399757\n",
      "7 FOLD NMAE = 0.08873382593420542\n",
      "8 FOLD NMAE = 0.09812719865964409\n",
      "9 FOLD NMAE = 0.09158364647495551\n",
      "10 FOLD NMAE = 0.10595075636250212\n",
      "10FOLD Mean of NMAE = 0.09575544873477684\n"
     ]
    }
   ],
   "source": [
    "# HGBRegressor\n",
    "hgbr_pred = np.zeros(target.shape[0])\n",
    "hgbr_val = []\n",
    "for n, (tr_idx, val_idx) in enumerate(kf.split(X, y)) :\n",
    "    tr_x, tr_y = X.iloc[tr_idx], y.iloc[tr_idx]\n",
    "    val_x, val_y = X.iloc[val_idx], np.expm1(y.iloc[val_idx])\n",
    "    \n",
    "    hgbr = HistGradientBoostingRegressor(random_state=42, scoring=nmae_score, learning_rate=0.09)\n",
    "    hgbr.fit(tr_x, tr_y)\n",
    "    \n",
    "    val_pred = np.expm1(hgbr.predict(val_x))\n",
    "    val_nmae = NMAE(val_y, val_pred)\n",
    "    hgbr_val.append(val_nmae)\n",
    "    print(f'{n + 1} FOLD NMAE = {val_nmae}')\n",
    "    \n",
    "    fold_pred = hgbr.predict(target) / 10\n",
    "    hgbr_pred += fold_pred\n",
    "print(f'10FOLD Mean of NMAE = {np.mean(hgbr_val)}')"
   ]
  },
  {
   "cell_type": "code",
   "execution_count": 121,
   "metadata": {},
   "outputs": [
    {
     "name": "stdout",
     "output_type": "stream",
     "text": [
      "1 FOLD NMAE = 0.07562783131946062\n",
      "2 FOLD NMAE = 0.10206763392271655\n",
      "3 FOLD NMAE = 0.09823393376837301\n",
      "4 FOLD NMAE = 0.11048677626410351\n",
      "5 FOLD NMAE = 0.08741377103635795\n",
      "6 FOLD NMAE = 0.09882582524819147\n",
      "7 FOLD NMAE = 0.09614527205418492\n",
      "8 FOLD NMAE = 0.09081635763194823\n",
      "9 FOLD NMAE = 0.08957751048511726\n",
      "10 FOLD NMAE = 0.10353727761567867\n",
      "10FOLD Mean of NMAE = 0.09527321893461323\n"
     ]
    }
   ],
   "source": [
    "# NGBRegressor\n",
    "ngb_pred = np.zeros(target.shape[0])\n",
    "ngb_val = []\n",
    "for n, (tr_idx, val_idx) in enumerate(kf.split(X, y)) :\n",
    "    tr_x, tr_y = X.iloc[tr_idx], y.iloc[tr_idx]\n",
    "    val_x, val_y = X.iloc[val_idx], np.expm1(y.iloc[val_idx])\n",
    "    \n",
    "    ngb = NGBRegressor(random_state = 42, n_estimators = 500, verbose = 0, learning_rate = 0.03)\n",
    "    ngb.fit(tr_x, tr_y, val_x, val_y, early_stopping_rounds = 300)\n",
    "    \n",
    "    val_pred = np.expm1(ngb.predict(val_x))\n",
    "    val_nmae = NMAE(val_y, val_pred)\n",
    "    ngb_val.append(val_nmae)\n",
    "    print(f'{n + 1} FOLD NMAE = {val_nmae}')\n",
    "    \n",
    "    target_data = Pool(data = target, label = None)\n",
    "    fold_pred = ngb.predict(target) / 10\n",
    "    ngb_pred += fold_pred\n",
    "print(f'10FOLD Mean of NMAE = {np.mean(ngb_val)}')"
   ]
  },
  {
   "cell_type": "code",
   "execution_count": 122,
   "metadata": {},
   "outputs": [
    {
     "name": "stdout",
     "output_type": "stream",
     "text": [
      "0:\tlearn: 0.2938486\ttest: 184599.8961000\tbest: 184599.8961000 (0)\ttotal: 2.43ms\tremaining: 7.28s\n",
      "Stopped by overfitting detector  (750 iterations wait)\n",
      "\n",
      "bestTest = 184599.8409\n",
      "bestIteration = 145\n",
      "\n",
      "Shrink model to first 146 iterations.\n",
      "1 FOLD NMAE = 0.08095120214950641\n",
      "0:\tlearn: 0.2941968\ttest: 182774.3370022\tbest: 182774.3370022 (0)\ttotal: 14.8ms\tremaining: 44.5s\n",
      "Stopped by overfitting detector  (750 iterations wait)\n",
      "\n",
      "bestTest = 182774.3178\n",
      "bestIteration = 88\n",
      "\n",
      "Shrink model to first 89 iterations.\n",
      "2 FOLD NMAE = 0.11446639489896013\n",
      "0:\tlearn: 0.2888881\ttest: 196831.3033814\tbest: 196831.3033814 (0)\ttotal: 1.62ms\tremaining: 4.87s\n",
      "1000:\tlearn: 0.0668221\ttest: 196831.2192248\tbest: 196831.2179529 (831)\ttotal: 1.38s\tremaining: 2.75s\n",
      "Stopped by overfitting detector  (750 iterations wait)\n",
      "\n",
      "bestTest = 196831.218\n",
      "bestIteration = 831\n",
      "\n",
      "Shrink model to first 832 iterations.\n",
      "3 FOLD NMAE = 0.09267928462268607\n",
      "0:\tlearn: 0.2909768\ttest: 172746.7622039\tbest: 172746.7622039 (0)\ttotal: 8.8ms\tremaining: 26.4s\n",
      "Stopped by overfitting detector  (750 iterations wait)\n",
      "\n",
      "bestTest = 172746.7622\n",
      "bestIteration = 0\n",
      "\n",
      "Shrink model to first 1 iterations.\n",
      "4 FOLD NMAE = 0.2946701691048934\n",
      "0:\tlearn: 0.2923650\ttest: 194134.6739969\tbest: 194134.6739969 (0)\ttotal: 17.9ms\tremaining: 53.7s\n",
      "1000:\tlearn: 0.0674369\ttest: 194134.5848961\tbest: 194134.5835030 (336)\ttotal: 1.44s\tremaining: 2.88s\n",
      "Stopped by overfitting detector  (750 iterations wait)\n",
      "\n",
      "bestTest = 194134.5835\n",
      "bestIteration = 336\n",
      "\n",
      "Shrink model to first 337 iterations.\n",
      "5 FOLD NMAE = 0.08942753611015815\n",
      "0:\tlearn: 0.2900083\ttest: 197571.5837731\tbest: 197571.5837731 (0)\ttotal: 1.57ms\tremaining: 4.7s\n",
      "1000:\tlearn: 0.0674688\ttest: 197571.4805706\tbest: 197571.4796473 (740)\ttotal: 1.47s\tremaining: 2.93s\n",
      "Stopped by overfitting detector  (750 iterations wait)\n",
      "\n",
      "bestTest = 197571.4796\n",
      "bestIteration = 740\n",
      "\n",
      "Shrink model to first 741 iterations.\n",
      "6 FOLD NMAE = 0.0947506652269138\n",
      "0:\tlearn: 0.2932762\ttest: 183621.5484128\tbest: 183621.5484128 (0)\ttotal: 3.47ms\tremaining: 10.4s\n",
      "Stopped by overfitting detector  (750 iterations wait)\n",
      "\n",
      "bestTest = 183621.5104\n",
      "bestIteration = 122\n",
      "\n",
      "Shrink model to first 123 iterations.\n",
      "7 FOLD NMAE = 0.10241408778742074\n",
      "0:\tlearn: 0.2913590\ttest: 179670.4118764\tbest: 179670.4118764 (0)\ttotal: 6.11ms\tremaining: 18.3s\n",
      "Stopped by overfitting detector  (750 iterations wait)\n",
      "\n",
      "bestTest = 179670.3896\n",
      "bestIteration = 60\n",
      "\n",
      "Shrink model to first 61 iterations.\n",
      "8 FOLD NMAE = 0.12732225733432168\n",
      "0:\tlearn: 0.2927122\ttest: 175656.7156190\tbest: 175656.7156190 (0)\ttotal: 2.42ms\tremaining: 7.26s\n",
      "Stopped by overfitting detector  (750 iterations wait)\n",
      "\n",
      "bestTest = 175656.7\n",
      "bestIteration = 60\n",
      "\n",
      "Shrink model to first 61 iterations.\n",
      "9 FOLD NMAE = 0.13637257605697992\n",
      "0:\tlearn: 0.2887338\ttest: 196335.7017888\tbest: 196335.7017888 (0)\ttotal: 1.7ms\tremaining: 5.1s\n",
      "Stopped by overfitting detector  (750 iterations wait)\n",
      "\n",
      "bestTest = 196335.6254\n",
      "bestIteration = 151\n",
      "\n",
      "Shrink model to first 152 iterations.\n",
      "10 FOLD NMAE = 0.11657833041125633\n",
      "10FOLD Mean of NMAE = 0.12496325037030967\n"
     ]
    }
   ],
   "source": [
    "# cat\n",
    "cat_pred = np.zeros(target.shape[0])\n",
    "cat_val = []\n",
    "for n, (tr_idx, val_idx) in enumerate(kf.split(X, y)) :\n",
    "    tr_x, tr_y = X.iloc[tr_idx], y.iloc[tr_idx]\n",
    "    val_x, val_y = X.iloc[val_idx], np.expm1(y.iloc[val_idx])\n",
    "    \n",
    "    tr_data = Pool(data = tr_x, label = tr_y)\n",
    "    val_data = Pool(data = val_x, label = val_y)\n",
    "    \n",
    "    cat = CatBoostRegressor(depth = 4, random_state = 42, loss_function = 'MAE', n_estimators = 3000, learning_rate = 0.03, verbose = 0)\n",
    "    cat.fit(tr_data, eval_set = val_data, early_stopping_rounds = 750, verbose = 1000)\n",
    "    \n",
    "    val_pred = np.expm1(cat.predict(val_x))\n",
    "    val_nmae = NMAE(val_y, val_pred)\n",
    "    cat_val.append(val_nmae)\n",
    "    print(f'{n + 1} FOLD NMAE = {val_nmae}')\n",
    "    \n",
    "    target_data = Pool(data = target, label = None)\n",
    "    fold_pred = cat.predict(target) / 10\n",
    "    cat_pred += fold_pred\n",
    "print(f'10FOLD Mean of NMAE = {np.mean(cat_val)}')"
   ]
  },
  {
   "cell_type": "code",
   "execution_count": 123,
   "metadata": {},
   "outputs": [
    {
     "name": "stdout",
     "output_type": "stream",
     "text": [
      "0.09610156\n",
      "0.09667475\n",
      "0.09573242\n",
      "0.09611517\n",
      "0.09554355\n",
      "0.09575545\n",
      "0.09527322\n",
      "0.12496325\n"
     ]
    }
   ],
   "source": [
    "# 검증 성능 확인하기\n",
    "val_list = [etr_val, rf_val, gbr_val, xgb_val, lgb_val, hgbr_val, ngb_val, cat_val]\n",
    "for val in val_list :\n",
    "  print(\"{:.8f}\".format(np.mean(val))) "
   ]
  },
  {
   "cell_type": "markdown",
   "metadata": {},
   "source": [
    "#### 확인 결과, 나머지 성능은 모두 괜찮으나, catboost 성능이 떨어집니다 → 그래도 이대로 보내긴 아쉽습니다"
   ]
  },
  {
   "cell_type": "code",
   "execution_count": 124,
   "metadata": {},
   "outputs": [
    {
     "data": {
      "text/html": [
       "<div>\n",
       "<style scoped>\n",
       "    .dataframe tbody tr th:only-of-type {\n",
       "        vertical-align: middle;\n",
       "    }\n",
       "\n",
       "    .dataframe tbody tr th {\n",
       "        vertical-align: top;\n",
       "    }\n",
       "\n",
       "    .dataframe thead th {\n",
       "        text-align: right;\n",
       "    }\n",
       "</style>\n",
       "<table border=\"1\" class=\"dataframe\">\n",
       "  <thead>\n",
       "    <tr style=\"text-align: right;\">\n",
       "      <th></th>\n",
       "      <th>id</th>\n",
       "      <th>target</th>\n",
       "    </tr>\n",
       "  </thead>\n",
       "  <tbody>\n",
       "    <tr>\n",
       "      <th>0</th>\n",
       "      <td>1</td>\n",
       "      <td>0</td>\n",
       "    </tr>\n",
       "    <tr>\n",
       "      <th>1</th>\n",
       "      <td>2</td>\n",
       "      <td>0</td>\n",
       "    </tr>\n",
       "    <tr>\n",
       "      <th>2</th>\n",
       "      <td>3</td>\n",
       "      <td>0</td>\n",
       "    </tr>\n",
       "    <tr>\n",
       "      <th>3</th>\n",
       "      <td>4</td>\n",
       "      <td>0</td>\n",
       "    </tr>\n",
       "    <tr>\n",
       "      <th>4</th>\n",
       "      <td>5</td>\n",
       "      <td>0</td>\n",
       "    </tr>\n",
       "  </tbody>\n",
       "</table>\n",
       "</div>"
      ],
      "text/plain": [
       "   id  target\n",
       "0   1       0\n",
       "1   2       0\n",
       "2   3       0\n",
       "3   4       0\n",
       "4   5       0"
      ]
     },
     "execution_count": 124,
     "metadata": {},
     "output_type": "execute_result"
    }
   ],
   "source": [
    "# 제출용 sample 파일을 불러옵니다.\n",
    "submission = pd.read_csv('sample_submission.csv')\n",
    "submission.head()"
   ]
  },
  {
   "cell_type": "code",
   "execution_count": 125,
   "metadata": {},
   "outputs": [],
   "source": [
    "predict_cat=cat_reg.predict(X_test0)"
   ]
  },
  {
   "cell_type": "markdown",
   "metadata": {},
   "source": [
    "#### kfold 하기 전 catboost 모델이라도 불러와서 써줍니다"
   ]
  },
  {
   "cell_type": "code",
   "execution_count": 126,
   "metadata": {},
   "outputs": [
    {
     "data": {
      "text/html": [
       "<div>\n",
       "<style scoped>\n",
       "    .dataframe tbody tr th:only-of-type {\n",
       "        vertical-align: middle;\n",
       "    }\n",
       "\n",
       "    .dataframe tbody tr th {\n",
       "        vertical-align: top;\n",
       "    }\n",
       "\n",
       "    .dataframe thead th {\n",
       "        text-align: right;\n",
       "    }\n",
       "</style>\n",
       "<table border=\"1\" class=\"dataframe\">\n",
       "  <thead>\n",
       "    <tr style=\"text-align: right;\">\n",
       "      <th></th>\n",
       "      <th>id</th>\n",
       "      <th>target</th>\n",
       "    </tr>\n",
       "  </thead>\n",
       "  <tbody>\n",
       "    <tr>\n",
       "      <th>0</th>\n",
       "      <td>1</td>\n",
       "      <td>334599.210352</td>\n",
       "    </tr>\n",
       "    <tr>\n",
       "      <th>1</th>\n",
       "      <td>2</td>\n",
       "      <td>128235.885117</td>\n",
       "    </tr>\n",
       "    <tr>\n",
       "      <th>2</th>\n",
       "      <td>3</td>\n",
       "      <td>176439.511139</td>\n",
       "    </tr>\n",
       "    <tr>\n",
       "      <th>3</th>\n",
       "      <td>4</td>\n",
       "      <td>258568.438964</td>\n",
       "    </tr>\n",
       "    <tr>\n",
       "      <th>4</th>\n",
       "      <td>5</td>\n",
       "      <td>133662.359152</td>\n",
       "    </tr>\n",
       "    <tr>\n",
       "      <th>...</th>\n",
       "      <td>...</td>\n",
       "      <td>...</td>\n",
       "    </tr>\n",
       "    <tr>\n",
       "      <th>1345</th>\n",
       "      <td>1346</td>\n",
       "      <td>337677.930450</td>\n",
       "    </tr>\n",
       "    <tr>\n",
       "      <th>1346</th>\n",
       "      <td>1347</td>\n",
       "      <td>124889.767898</td>\n",
       "    </tr>\n",
       "    <tr>\n",
       "      <th>1347</th>\n",
       "      <td>1348</td>\n",
       "      <td>83669.377571</td>\n",
       "    </tr>\n",
       "    <tr>\n",
       "      <th>1348</th>\n",
       "      <td>1349</td>\n",
       "      <td>188830.044902</td>\n",
       "    </tr>\n",
       "    <tr>\n",
       "      <th>1349</th>\n",
       "      <td>1350</td>\n",
       "      <td>130799.104688</td>\n",
       "    </tr>\n",
       "  </tbody>\n",
       "</table>\n",
       "<p>1350 rows × 2 columns</p>\n",
       "</div>"
      ],
      "text/plain": [
       "        id         target\n",
       "0        1  334599.210352\n",
       "1        2  128235.885117\n",
       "2        3  176439.511139\n",
       "3        4  258568.438964\n",
       "4        5  133662.359152\n",
       "...    ...            ...\n",
       "1345  1346  337677.930450\n",
       "1346  1347  124889.767898\n",
       "1347  1348   83669.377571\n",
       "1348  1349  188830.044902\n",
       "1349  1350  130799.104688\n",
       "\n",
       "[1350 rows x 2 columns]"
      ]
     },
     "execution_count": 126,
     "metadata": {},
     "output_type": "execute_result"
    }
   ],
   "source": [
    "submission['target'] = (np.expm1(etr_pred) + np.expm1(rf_pred) + np.expm1(gbr_pred) + np.expm1(xgb_pred) + np.expm1(hgbr_pred) + np.expm1(ngb_pred) + predict_cat) / 7\n",
    "submission"
   ]
  },
  {
   "cell_type": "markdown",
   "metadata": {},
   "source": [
    "#### exp으로 cat값과 상태를 맞춰주고서 산술평균을 취해줍니다 (여러번 시도중 LGB는 제출결과 성능이 더 낮아져 제외)"
   ]
  },
  {
   "cell_type": "code",
   "execution_count": 127,
   "metadata": {},
   "outputs": [],
   "source": [
    "submission.to_csv(\"submission.csv\", index=False)"
   ]
  },
  {
   "cell_type": "markdown",
   "metadata": {},
   "source": [
    "#### 제출. 끝."
   ]
  }
 ],
 "metadata": {
  "kernelspec": {
   "display_name": "Python 3",
   "language": "python",
   "name": "python3"
  },
  "language_info": {
   "codemirror_mode": {
    "name": "ipython",
    "version": 3
   },
   "file_extension": ".py",
   "mimetype": "text/x-python",
   "name": "python",
   "nbconvert_exporter": "python",
   "pygments_lexer": "ipython3",
   "version": "3.7.3"
  }
 },
 "nbformat": 4,
 "nbformat_minor": 2
}
